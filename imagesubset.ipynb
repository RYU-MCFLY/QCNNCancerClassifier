{
 "cells": [
  {
   "cell_type": "code",
   "execution_count": 3,
   "metadata": {},
   "outputs": [],
   "source": [
    "import os\n",
    "import shutil\n",
    "import random\n",
    "import pathlib\n",
    "import pandas as pd"
   ]
  },
  {
   "cell_type": "code",
   "execution_count": 4,
   "metadata": {},
   "outputs": [],
   "source": [
    "datos = pd.read_csv(\"https://raw.githubusercontent.com/AnIsAsPe/ClassificadorCancerEsofago/master/Datos/ClasesImagenes.csv\", usecols=[1,2])"
   ]
  },
  {
   "cell_type": "code",
   "execution_count": 5,
   "metadata": {},
   "outputs": [],
   "source": [
    "datos['class'] = datos['class_number'] == 1"
   ]
  },
  {
   "cell_type": "code",
   "execution_count": 6,
   "metadata": {},
   "outputs": [
    {
     "name": "stdout",
     "output_type": "stream",
     "text": [
      "5063 images copied \n"
     ]
    }
   ],
   "source": [
    "#Spliting and Copying into Train-Test Folders\n",
    "target_dir = 'C:\\\\Users\\\\conte\\\\OneDrive\\\\Escritorio\\\\Colegio Bourbaki\\\\ML-AI-WA\\\\Perceptron\\\\ImagenesClasificadas\\\\'\n",
    "image_path = 'C:\\\\Users\\\\conte\\\\OneDrive\\\\Escritorio\\\\Colegio Bourbaki\\\\ML-AI-WA\\\\Perceptron\\\\CarpetaImagenes\\\\'\n",
    "\n",
    "count = 0\n",
    "for image_split in [False, True]:\n",
    "    labels = list(datos[(datos['class']==image_split)]['image_filename'])\n",
    "    for label in labels:\n",
    "        to_dir = pathlib.Path(str(target_dir) + str(image_split) + '/' + str(label))\n",
    "        if not to_dir.is_dir():\n",
    "            to_dir.parent.mkdir(parents=True, exist_ok=True)\n",
    "        from_dir = pathlib.Path(image_path + label)\n",
    "        shutil.copy2(from_dir, to_dir)\n",
    "        count += 1\n",
    "\n",
    "print(f'{count:.0f} images copied ')"
   ]
  },
  {
   "cell_type": "code",
   "execution_count": 7,
   "metadata": {},
   "outputs": [],
   "source": [
    "# Setup data paths\n",
    "data_path = 'C:\\\\Users\\\\conte\\\\OneDrive\\\\Escritorio\\\\Colegio Bourbaki\\\\ML-AI-WA\\\\Perceptron\\\\ImagenesClasificadas\\\\'\n",
    "\n",
    "# Create function to split randomly in Train and Test\n",
    "def train_test_split(image_path=data_path,\n",
    "               data_splits=['Train', 'Test'], \n",
    "               target_classes = [False,True],\n",
    "               split=0.35,\n",
    "               seed=42):\n",
    "    random.seed(42)\n",
    "    label_splits = {}\n",
    "    \n",
    "    # Get labels\n",
    "    ammount=0\n",
    "    for data_split in data_splits:\n",
    "        print(f\"[INFO] Creating image split for: {data_split}...\")\n",
    "        image_paths = []\n",
    "        for target in target_classes:\n",
    "            labels = list(datos[(datos['class']==target)]['image_filename'])\n",
    "            if data_split == 'Train':\n",
    "                ammount = 1 - split\n",
    "            elif data_split == 'Test':\n",
    "                ammount = split\n",
    "            sample = round(ammount*len(labels))\n",
    "            print(f\"[INFO] Getting random set of {sample} images for {data_split}-{target} ...\")\n",
    "            sampled_images = random.sample(labels, k=sample)\n",
    "            image_paths.append([pathlib.Path(str(image_path + str(target) + '/' + sample_image)) for sample_image in sampled_images])\n",
    "        image_path_flat = [item for sublist in image_paths for item in sublist]\n",
    "        label_splits[data_split] = image_path_flat\n",
    "    \n",
    "    print('\\n','Finish splitting!')\n",
    "\n",
    "    return label_splits"
   ]
  },
  {
   "cell_type": "code",
   "execution_count": 8,
   "metadata": {},
   "outputs": [
    {
     "name": "stdout",
     "output_type": "stream",
     "text": [
      "[INFO] Creating image split for: Train...\n",
      "[INFO] Getting random set of 955 images for Train-False ...\n",
      "[INFO] Getting random set of 2336 images for Train-True ...\n",
      "[INFO] Creating image split for: Test...\n",
      "[INFO] Getting random set of 514 images for Test-False ...\n",
      "[INFO] Getting random set of 1258 images for Test-True ...\n",
      "\n",
      " Finish splitting!\n"
     ]
    }
   ],
   "source": [
    "label_splits = train_test_split(split=0.35)"
   ]
  },
  {
   "cell_type": "code",
   "execution_count": 9,
   "metadata": {},
   "outputs": [
    {
     "name": "stdout",
     "output_type": "stream",
     "text": [
      "Creating directory: 'C:\\Users\\conte\\OneDrive\\Escritorio\\Colegio Bourbaki\\ML-AI-WA\\Perceptron\\Imagenes_Clasificadas_Random_Split'\n",
      "5063 images moved \n"
     ]
    }
   ],
   "source": [
    "# Create target directory path\n",
    "target_dir_name = 'C:\\\\Users\\\\conte\\\\OneDrive\\\\Escritorio\\\\Colegio Bourbaki\\\\ML-AI-WA\\\\Perceptron\\\\Imagenes_Clasificadas_Random_Split'\n",
    "print(f\"Creating directory: '{target_dir_name}'\")\n",
    "\n",
    "# Setup the directories & Make the directories\n",
    "target_dir = pathlib.Path(target_dir_name)\n",
    "target_dir.mkdir(parents=True, exist_ok=True)\n",
    "\n",
    "\n",
    "import shutil\n",
    "\n",
    "count=0\n",
    "for image_split in label_splits.keys():\n",
    "    for image_path in label_splits[str(image_split)]:\n",
    "        dest_dir = target_dir / image_split / image_path.parent.stem / image_path.name\n",
    "        if not dest_dir.parent.is_dir():\n",
    "            dest_dir.parent.mkdir(parents=True, exist_ok=True)\n",
    "        shutil.copy2(image_path, dest_dir)\n",
    "        count += 1\n",
    "\n",
    "print(f'{count:.0f} images moved ')"
   ]
  }
 ],
 "metadata": {
  "kernelspec": {
   "display_name": "Python 3.10.7 64-bit",
   "language": "python",
   "name": "python3"
  },
  "language_info": {
   "codemirror_mode": {
    "name": "ipython",
    "version": 3
   },
   "file_extension": ".py",
   "mimetype": "text/x-python",
   "name": "python",
   "nbconvert_exporter": "python",
   "pygments_lexer": "ipython3",
   "version": "3.10.7"
  },
  "orig_nbformat": 4,
  "vscode": {
   "interpreter": {
    "hash": "de534543493c93dd74983ce351d5dc380ee4b042ff5b76a9a21948ad35ca9587"
   }
  }
 },
 "nbformat": 4,
 "nbformat_minor": 2
}
